{
 "cells": [
  {
   "cell_type": "code",
   "execution_count": 1,
   "metadata": {},
   "outputs": [
    {
     "name": "stderr",
     "output_type": "stream",
     "text": [
      "Using TensorFlow backend.\n"
     ]
    }
   ],
   "source": [
    "import numpy as np\n",
    "import h5py\n",
    "import pandas as pd\n",
    "import matplotlib.pyplot as plt\n",
    "import tensorflow as tf\n",
    "from keras.layers import Dense, Dropout,Flatten,Activation\n",
    "from keras.layers import Conv2D, MaxPooling2D, BatchNormalization\n",
    "from keras.optimizers import SGD\n",
    "from keras.models import Sequential\n",
    "from sklearn.linear_model import LogisticRegression\n",
    "from sklearn.ensemble import RandomForestClassifier\n",
    "from sklearn.svm import LinearSVC\n",
    "from sklearn.metrics import confusion_matrix, accuracy_score\n",
    "from keras.applications import VGG16\n",
    "from keras.applications import imagenet_utils"
   ]
  },
  {
   "cell_type": "code",
   "execution_count": 2,
   "metadata": {},
   "outputs": [],
   "source": [
    "def loadDataH5():\n",
    "    with h5py.File('data1.h5','r') as hf: \n",
    "        trainX = np.array(hf.get('trainX')) \n",
    "        trainY = np.array(hf.get('trainY')) \n",
    "        valX = np.array(hf.get('valX')) \n",
    "        valY = np.array(hf.get('valY')) \n",
    "        print (trainX.shape,trainY.shape) \n",
    "        print (valX.shape,valY.shape)\n",
    "    return trainX, trainY, valX, valY "
   ]
  },
  {
   "cell_type": "code",
   "execution_count": 3,
   "metadata": {},
   "outputs": [
    {
     "name": "stdout",
     "output_type": "stream",
     "text": [
      "(1020, 128, 128, 3) (1020,)\n",
      "(340, 128, 128, 3) (340,)\n"
     ]
    }
   ],
   "source": [
    "trainX, trainY, valX, valY = loadDataH5()"
   ]
  },
  {
   "cell_type": "code",
   "execution_count": 4,
   "metadata": {},
   "outputs": [
    {
     "name": "stdout",
     "output_type": "stream",
     "text": [
      "Model: \"vgg16\"\n",
      "_________________________________________________________________\n",
      "Layer (type)                 Output Shape              Param #   \n",
      "=================================================================\n",
      "input_1 (InputLayer)         (None, 128, 128, 3)       0         \n",
      "_________________________________________________________________\n",
      "block1_conv1 (Conv2D)        (None, 128, 128, 64)      1792      \n",
      "_________________________________________________________________\n",
      "block1_conv2 (Conv2D)        (None, 128, 128, 64)      36928     \n",
      "_________________________________________________________________\n",
      "block1_pool (MaxPooling2D)   (None, 64, 64, 64)        0         \n",
      "_________________________________________________________________\n",
      "block2_conv1 (Conv2D)        (None, 64, 64, 128)       73856     \n",
      "_________________________________________________________________\n",
      "block2_conv2 (Conv2D)        (None, 64, 64, 128)       147584    \n",
      "_________________________________________________________________\n",
      "block2_pool (MaxPooling2D)   (None, 32, 32, 128)       0         \n",
      "_________________________________________________________________\n",
      "block3_conv1 (Conv2D)        (None, 32, 32, 256)       295168    \n",
      "_________________________________________________________________\n",
      "block3_conv2 (Conv2D)        (None, 32, 32, 256)       590080    \n",
      "_________________________________________________________________\n",
      "block3_conv3 (Conv2D)        (None, 32, 32, 256)       590080    \n",
      "_________________________________________________________________\n",
      "block3_pool (MaxPooling2D)   (None, 16, 16, 256)       0         \n",
      "_________________________________________________________________\n",
      "block4_conv1 (Conv2D)        (None, 16, 16, 512)       1180160   \n",
      "_________________________________________________________________\n",
      "block4_conv2 (Conv2D)        (None, 16, 16, 512)       2359808   \n",
      "_________________________________________________________________\n",
      "block4_conv3 (Conv2D)        (None, 16, 16, 512)       2359808   \n",
      "_________________________________________________________________\n",
      "block4_pool (MaxPooling2D)   (None, 8, 8, 512)         0         \n",
      "_________________________________________________________________\n",
      "block5_conv1 (Conv2D)        (None, 8, 8, 512)         2359808   \n",
      "_________________________________________________________________\n",
      "block5_conv2 (Conv2D)        (None, 8, 8, 512)         2359808   \n",
      "_________________________________________________________________\n",
      "block5_conv3 (Conv2D)        (None, 8, 8, 512)         2359808   \n",
      "_________________________________________________________________\n",
      "block5_pool (MaxPooling2D)   (None, 4, 4, 512)         0         \n",
      "=================================================================\n",
      "Total params: 14,714,688\n",
      "Trainable params: 14,714,688\n",
      "Non-trainable params: 0\n",
      "_________________________________________________________________\n"
     ]
    }
   ],
   "source": [
    "VGG_model = VGG16(weights=\"imagenet\", include_top=False, input_shape=trainX.shape[1:])\n",
    "VGG_model.summary()"
   ]
  },
  {
   "cell_type": "code",
   "execution_count": 5,
   "metadata": {},
   "outputs": [],
   "source": [
    "features_train= VGG_model.predict(trainX)\n",
    "features_train= features_train.reshape(features_train.shape[0], -1)\n",
    "features_val= VGG_model.predict(valX)\n",
    "features_val= features_val.reshape(features_val.shape[0], -1)"
   ]
  },
  {
   "cell_type": "markdown",
   "metadata": {},
   "source": [
    "# RandomForest"
   ]
  },
  {
   "cell_type": "code",
   "execution_count": 6,
   "metadata": {},
   "outputs": [
    {
     "data": {
      "text/plain": [
       "RandomForestClassifier(bootstrap=True, ccp_alpha=0.0, class_weight=None,\n",
       "                       criterion='gini', max_depth=None, max_features='auto',\n",
       "                       max_leaf_nodes=None, max_samples=None,\n",
       "                       min_impurity_decrease=0.0, min_impurity_split=None,\n",
       "                       min_samples_leaf=1, min_samples_split=2,\n",
       "                       min_weight_fraction_leaf=0.0, n_estimators=100,\n",
       "                       n_jobs=None, oob_score=False, random_state=None,\n",
       "                       verbose=0, warm_start=False)"
      ]
     },
     "execution_count": 6,
     "metadata": {},
     "output_type": "execute_result"
    }
   ],
   "source": [
    "model_RandomForest = RandomForestClassifier()\n",
    "model_RandomForest.fit(features_train, trainY)"
   ]
  },
  {
   "cell_type": "code",
   "execution_count": 7,
   "metadata": {},
   "outputs": [
    {
     "name": "stdout",
     "output_type": "stream",
     "text": [
      "Accuracy (In percent):  77.64705882352942\n",
      "Imgaes found correctly:  264\n",
      "**************************************************\n",
      "Confusion matrix : [[11  0  0  0  0  0  0  0  0  0  1  1  5  0  1  0  0]\n",
      " [ 0 13  0  0  0  0  0  0  0  1  1  0  0  0  0  1  0]\n",
      " [ 1  0 15  1  0  0  0  2  1  0  0  0  0  0  0  0  0]\n",
      " [ 4  1  0 11  0  1  0  0  0  0  1  0  1  0  0  1  0]\n",
      " [ 2  1  0  0 10  0  0  0  0  0  0  0  1  0  0  1  1]\n",
      " [ 0  0  0  0  0 15  0  0  0  0  0  0  0  0  0  2  1]\n",
      " [ 0  0  0  0  1  0 17  0  0  0  0  0  0  0  0  0  0]\n",
      " [ 0  0  1  0  0  0  0 19  0  0  0  0  0  1  0  0  0]\n",
      " [ 0  1  0  0  1  0  0  0 24  0  0  0  1  0  0  0  0]\n",
      " [ 0  0  0  1  0  0  0  0  0 21  0  0  0  0  0  0  0]\n",
      " [ 3  1  0  0  0  1  0  0  0  0 18  0  0  0  0  0  0]\n",
      " [ 1  1  0  0  0  0  0  0  0  0  0 17  0  0  0  0  4]\n",
      " [ 2  0  0  1  1  0  0  0  1  0  1  0 12  0  1  0  1]\n",
      " [ 0  1  0  0  0  0  0  2  0  0  0  0  0 20  0  0  0]\n",
      " [ 0  1  0  0  0  0  0  0  0  0  0  0  0  0 17  1  0]\n",
      " [ 2  0  0  2  0  1  0  0  0  0  0  1  2  0  0  7  0]\n",
      " [ 2  0  0  0  0  0  0  0  0  0  0  1  0  0  0  0 17]]\n"
     ]
    }
   ],
   "source": [
    "results_RF = model_RandomForest.predict(features_val)\n",
    "accuracy = accuracy_score(results_RF, valY)\n",
    "print (\"Accuracy (In percent): \", accuracy * 100)\n",
    "correct = accuracy_score( results_RF,valY, normalize=False)\n",
    "print(\"Imgaes found correctly: \",correct)\n",
    "print(\"*\"*50)\n",
    "print(\"Confusion matrix :\",confusion_matrix(valY, results_RF, labels=range(0,17)))"
   ]
  },
  {
   "cell_type": "markdown",
   "metadata": {},
   "source": [
    "# LogisticRegression"
   ]
  },
  {
   "cell_type": "code",
   "execution_count": 8,
   "metadata": {},
   "outputs": [
    {
     "name": "stdout",
     "output_type": "stream",
     "text": [
      "Accuracy (In percent):  87.94117647058823\n",
      "Imgaes found correctly:  299\n",
      "**************************************************\n",
      "Confusion matrix : [[15  0  0  1  0  0  0  0  0  0  0  1  2  0  0  0  0]\n",
      " [ 0 16  0  0  0  0  0  0  0  0  0  0  0  0  0  0  0]\n",
      " [ 1  0 16  0  0  0  0  2  1  0  0  0  0  0  0  0  0]\n",
      " [ 1  1  0 14  1  1  0  0  1  0  0  0  0  0  0  1  0]\n",
      " [ 0  0  0  0 16  0  0  0  0  0  0  0  0  0  0  0  0]\n",
      " [ 0  0  0  1  0 16  0  0  0  0  0  0  0  0  0  1  0]\n",
      " [ 0  0  0  0  1  0 17  0  0  0  0  0  0  0  0  0  0]\n",
      " [ 0  0  0  1  0  0  0 20  0  0  0  0  0  0  0  0  0]\n",
      " [ 0  1  0  0  0  0  0  0 25  0  0  0  1  0  0  0  0]\n",
      " [ 0  0  0  0  1  0  0  0  0 20  1  0  0  0  0  0  0]\n",
      " [ 1  0  0  0  1  0  0  0  0  0 21  0  0  0  0  0  0]\n",
      " [ 1  0  0  0  1  0  0  0  1  0  0 19  0  0  0  0  1]\n",
      " [ 1  0  0  1  1  0  0  0  0  0  1  0 15  0  1  0  0]\n",
      " [ 0  1  0  0  0  0  0  0  0  0  0  0  0 22  0  0  0]\n",
      " [ 0  0  0  0  0  0  0  0  0  0  0  0  0  0 19  0  0]\n",
      " [ 3  0  0  1  0  0  0  0  0  0  0  0  2  0  0  9  0]\n",
      " [ 0  0  0  1  0  0  0  0  0  0  0  0  0  0  0  0 19]]\n"
     ]
    },
    {
     "name": "stderr",
     "output_type": "stream",
     "text": [
      "C:\\Users\\StudyEasy\\anaconda3\\lib\\site-packages\\sklearn\\linear_model\\_logistic.py:940: ConvergenceWarning: lbfgs failed to converge (status=1):\n",
      "STOP: TOTAL NO. of ITERATIONS REACHED LIMIT.\n",
      "\n",
      "Increase the number of iterations (max_iter) or scale the data as shown in:\n",
      "    https://scikit-learn.org/stable/modules/preprocessing.html\n",
      "Please also refer to the documentation for alternative solver options:\n",
      "    https://scikit-learn.org/stable/modules/linear_model.html#logistic-regression\n",
      "  extra_warning_msg=_LOGISTIC_SOLVER_CONVERGENCE_MSG)\n"
     ]
    }
   ],
   "source": [
    "model= LogisticRegression()\n",
    "model.fit(features_train, trainY)\n",
    "model = model.predict(features_val)\n",
    "accuracy = accuracy_score(model, valY)\n",
    "print (\"Accuracy (In percent): \", accuracy * 100)\n",
    "correct = accuracy_score( model,valY, normalize=False)\n",
    "print(\"Imgaes found correctly: \",correct)\n",
    "print(\"*\"*50)\n",
    "print(\"Confusion matrix :\",confusion_matrix(valY, model, labels=range(0,17)))"
   ]
  },
  {
   "cell_type": "markdown",
   "metadata": {},
   "source": [
    "# LinearSVC"
   ]
  },
  {
   "cell_type": "code",
   "execution_count": 9,
   "metadata": {},
   "outputs": [
    {
     "name": "stdout",
     "output_type": "stream",
     "text": [
      "Accuracy (In percent):  87.94117647058823\n",
      "Imgaes found correctly:  299\n",
      "**************************************************\n",
      "Confusion matrix : [[15  0  0  1  0  0  0  0  0  0  0  1  2  0  0  0  0]\n",
      " [ 0 16  0  0  0  0  0  0  0  0  0  0  0  0  0  0  0]\n",
      " [ 1  0 16  0  0  0  0  2  1  0  0  0  0  0  0  0  0]\n",
      " [ 1  1  0 15  0  1  0  0  1  0  0  0  0  0  0  1  0]\n",
      " [ 0  0  0  0 16  0  0  0  0  0  0  0  0  0  0  0  0]\n",
      " [ 0  0  0  1  0 16  0  0  0  0  0  0  0  0  0  1  0]\n",
      " [ 0  0  0  0  1  0 17  0  0  0  0  0  0  0  0  0  0]\n",
      " [ 0  0  0  1  0  0  0 20  0  0  0  0  0  0  0  0  0]\n",
      " [ 0  1  1  0  0  0  0  0 25  0  0  0  0  0  0  0  0]\n",
      " [ 0  0  0  1  0  0  0  0  0 20  1  0  0  0  0  0  0]\n",
      " [ 1  0  0  0  1  0  0  0  0  0 21  0  0  0  0  0  0]\n",
      " [ 1  0  0  0  1  0  0  0  0  0  0 19  0  0  0  0  2]\n",
      " [ 2  0  0  0  1  0  0  0  0  0  0  0 16  0  1  0  0]\n",
      " [ 0  1  0  0  0  0  0  0  0  0  0  0  0 22  0  0  0]\n",
      " [ 0  0  0  0  1  0  0  0  0  0  0  0  0  0 18  0  0]\n",
      " [ 3  0  0  0  0  0  0  0  0  0  0  0  2  0  1  9  0]\n",
      " [ 0  0  0  1  0  0  0  0  0  0  0  1  0  0  0  0 18]]\n"
     ]
    },
    {
     "name": "stderr",
     "output_type": "stream",
     "text": [
      "C:\\Users\\StudyEasy\\anaconda3\\lib\\site-packages\\sklearn\\svm\\_base.py:947: ConvergenceWarning: Liblinear failed to converge, increase the number of iterations.\n",
      "  \"the number of iterations.\", ConvergenceWarning)\n"
     ]
    }
   ],
   "source": [
    "\n",
    "\n",
    "model= LinearSVC()\n",
    "model.fit(features_train, trainY)\n",
    "model = model.predict(features_val)\n",
    "accuracy = accuracy_score(model, valY)\n",
    "print (\"Accuracy (In percent): \", accuracy * 100)\n",
    "correct = accuracy_score( model,valY, normalize=False)\n",
    "print(\"Imgaes found correctly: \",correct)\n",
    "print(\"*\"*50)\n",
    "print(\"Confusion matrix :\",confusion_matrix(valY, model, labels=range(0,17)))"
   ]
  },
  {
   "cell_type": "markdown",
   "metadata": {},
   "source": [
    "# Sub-part 2: Explore the application of fine tuning as a method of transfer learning for the Flowers dataset."
   ]
  },
  {
   "cell_type": "code",
   "execution_count": 10,
   "metadata": {},
   "outputs": [],
   "source": [
    "def showGraph(Histroy, epochs):\n",
    "    # plot the training loss and accuracy\n",
    "    plt.style.use(\"ggplot\")\n",
    "    plt.figure()\n",
    "    plt.plot(np.arange(0, epochs), Histroy.history[\"loss\"], label=\"train_loss\")\n",
    "    plt.plot(np.arange(0, epochs), Histroy.history[\"val_loss\"], label=\"val_loss\")\n",
    "    plt.plot(np.arange(0, epochs), Histroy.history[\"accuracy\"], label=\"train_acc\")\n",
    "    plt.plot(np.arange(0, epochs), Histroy.history[\"val_accuracy\"], label=\"val_acc\")\n",
    "    plt.title(\"Training Loss and Accuracy\")\n",
    "    plt.xlabel(\"Epoch #\")\n",
    "    plt.ylabel(\"Loss/Accuracy\")\n",
    "    plt.legend()\n",
    "    plt.show()"
   ]
  },
  {
   "cell_type": "markdown",
   "metadata": {},
   "source": [
    "## Step 1 & 2: # Freezing all the layers & added a new fully connected layer"
   ]
  },
  {
   "cell_type": "code",
   "execution_count": 11,
   "metadata": {},
   "outputs": [
    {
     "name": "stdout",
     "output_type": "stream",
     "text": [
      "Model: \"vgg16\"\n",
      "_________________________________________________________________\n",
      "Layer (type)                 Output Shape              Param #   \n",
      "=================================================================\n",
      "input_2 (InputLayer)         (None, 128, 128, 3)       0         \n",
      "_________________________________________________________________\n",
      "block1_conv1 (Conv2D)        (None, 128, 128, 64)      1792      \n",
      "_________________________________________________________________\n",
      "block1_conv2 (Conv2D)        (None, 128, 128, 64)      36928     \n",
      "_________________________________________________________________\n",
      "block1_pool (MaxPooling2D)   (None, 64, 64, 64)        0         \n",
      "_________________________________________________________________\n",
      "block2_conv1 (Conv2D)        (None, 64, 64, 128)       73856     \n",
      "_________________________________________________________________\n",
      "block2_conv2 (Conv2D)        (None, 64, 64, 128)       147584    \n",
      "_________________________________________________________________\n",
      "block2_pool (MaxPooling2D)   (None, 32, 32, 128)       0         \n",
      "_________________________________________________________________\n",
      "block3_conv1 (Conv2D)        (None, 32, 32, 256)       295168    \n",
      "_________________________________________________________________\n",
      "block3_conv2 (Conv2D)        (None, 32, 32, 256)       590080    \n",
      "_________________________________________________________________\n",
      "block3_conv3 (Conv2D)        (None, 32, 32, 256)       590080    \n",
      "_________________________________________________________________\n",
      "block3_pool (MaxPooling2D)   (None, 16, 16, 256)       0         \n",
      "_________________________________________________________________\n",
      "block4_conv1 (Conv2D)        (None, 16, 16, 512)       1180160   \n",
      "_________________________________________________________________\n",
      "block4_conv2 (Conv2D)        (None, 16, 16, 512)       2359808   \n",
      "_________________________________________________________________\n",
      "block4_conv3 (Conv2D)        (None, 16, 16, 512)       2359808   \n",
      "_________________________________________________________________\n",
      "block4_pool (MaxPooling2D)   (None, 8, 8, 512)         0         \n",
      "_________________________________________________________________\n",
      "block5_conv1 (Conv2D)        (None, 8, 8, 512)         2359808   \n",
      "_________________________________________________________________\n",
      "block5_conv2 (Conv2D)        (None, 8, 8, 512)         2359808   \n",
      "_________________________________________________________________\n",
      "block5_conv3 (Conv2D)        (None, 8, 8, 512)         2359808   \n",
      "_________________________________________________________________\n",
      "block5_pool (MaxPooling2D)   (None, 4, 4, 512)         0         \n",
      "=================================================================\n",
      "Total params: 14,714,688\n",
      "Trainable params: 14,714,688\n",
      "Non-trainable params: 0\n",
      "_________________________________________________________________\n"
     ]
    }
   ],
   "source": [
    "vgg_model = VGG16(weights=\"imagenet\", include_top=False, input_shape=trainX.shape[1:])\n",
    "vgg_model.summary()\n",
    "vgg_model.trainable = False"
   ]
  },
  {
   "cell_type": "code",
   "execution_count": 12,
   "metadata": {},
   "outputs": [],
   "source": [
    "model = Sequential()\n",
    "model.add(vgg_model)\n",
    "model.add(Flatten())\n",
    "model.add(Dense(512, activation='relu'))\n",
    "model.add(Dropout(0.3))\n",
    "model.add(Dense(512, activation='relu'))\n",
    "model.add(Dropout(0.3))\n",
    "model.add(Dense(17, activation='softmax'))"
   ]
  },
  {
   "cell_type": "markdown",
   "metadata": {},
   "source": [
    "## Step 3: Train the weights on the new FC layer."
   ]
  },
  {
   "cell_type": "code",
   "execution_count": 13,
   "metadata": {},
   "outputs": [],
   "source": [
    "epochs = 30\n",
    "model.compile(loss='sparse_categorical_crossentropy',\n",
    "              optimizer=SGD(lr=0.01),\n",
    "              metrics=['accuracy'])\n",
    "checkpoint = tf.keras.callbacks.ModelCheckpoint(\"FineTune01bestVGG.h5\", monitor=\"val_loss\", mode=\"min\", save_best_only=True, verbose=1)\n",
    "history = model.fit(x=trainX, y=trainY,\n",
    "                            batch_size=32,\n",
    "                            epochs=epochs,\n",
    "                            callbacks=[checkpoint],\n",
    "                            validation_data=(valX, valY))\n",
    "showGraph(history, epochs)"
   ]
  },
  {
   "cell_type": "code",
   "execution_count": null,
   "metadata": {},
   "outputs": [],
   "source": []
  },
  {
   "cell_type": "markdown",
   "metadata": {},
   "source": [
    "## Step 4: Unfreeze the trainable weights on some of the convolutional layers in the base network."
   ]
  },
  {
   "cell_type": "code",
   "execution_count": 14,
   "metadata": {},
   "outputs": [],
   "source": [
    "vgg_model.trainable = True\n",
    "set_trainable = False\n",
    "for layer in vgg_model.layers:\n",
    "    if layer.name in ['block5_conv2']:\n",
    "            set_trainable = True\n",
    "    if set_trainable:\n",
    "        layer.trainable = True\n",
    "    else:\n",
    "        layer.trainable = False"
   ]
  },
  {
   "cell_type": "code",
   "execution_count": 15,
   "metadata": {},
   "outputs": [
    {
     "name": "stdout",
     "output_type": "stream",
     "text": [
      "Model: \"vgg16\"\n",
      "_________________________________________________________________\n",
      "Layer (type)                 Output Shape              Param #   \n",
      "=================================================================\n",
      "input_2 (InputLayer)         (None, 128, 128, 3)       0         \n",
      "_________________________________________________________________\n",
      "block1_conv1 (Conv2D)        (None, 128, 128, 64)      1792      \n",
      "_________________________________________________________________\n",
      "block1_conv2 (Conv2D)        (None, 128, 128, 64)      36928     \n",
      "_________________________________________________________________\n",
      "block1_pool (MaxPooling2D)   (None, 64, 64, 64)        0         \n",
      "_________________________________________________________________\n",
      "block2_conv1 (Conv2D)        (None, 64, 64, 128)       73856     \n",
      "_________________________________________________________________\n",
      "block2_conv2 (Conv2D)        (None, 64, 64, 128)       147584    \n",
      "_________________________________________________________________\n",
      "block2_pool (MaxPooling2D)   (None, 32, 32, 128)       0         \n",
      "_________________________________________________________________\n",
      "block3_conv1 (Conv2D)        (None, 32, 32, 256)       295168    \n",
      "_________________________________________________________________\n",
      "block3_conv2 (Conv2D)        (None, 32, 32, 256)       590080    \n",
      "_________________________________________________________________\n",
      "block3_conv3 (Conv2D)        (None, 32, 32, 256)       590080    \n",
      "_________________________________________________________________\n",
      "block3_pool (MaxPooling2D)   (None, 16, 16, 256)       0         \n",
      "_________________________________________________________________\n",
      "block4_conv1 (Conv2D)        (None, 16, 16, 512)       1180160   \n",
      "_________________________________________________________________\n",
      "block4_conv2 (Conv2D)        (None, 16, 16, 512)       2359808   \n",
      "_________________________________________________________________\n",
      "block4_conv3 (Conv2D)        (None, 16, 16, 512)       2359808   \n",
      "_________________________________________________________________\n",
      "block4_pool (MaxPooling2D)   (None, 8, 8, 512)         0         \n",
      "_________________________________________________________________\n",
      "block5_conv1 (Conv2D)        (None, 8, 8, 512)         2359808   \n",
      "_________________________________________________________________\n",
      "block5_conv2 (Conv2D)        (None, 8, 8, 512)         2359808   \n",
      "_________________________________________________________________\n",
      "block5_conv3 (Conv2D)        (None, 8, 8, 512)         2359808   \n",
      "_________________________________________________________________\n",
      "block5_pool (MaxPooling2D)   (None, 4, 4, 512)         0         \n",
      "=================================================================\n",
      "Total params: 14,714,688\n",
      "Trainable params: 4,719,616\n",
      "Non-trainable params: 9,995,072\n",
      "_________________________________________________________________\n"
     ]
    }
   ],
   "source": [
    "vgg_model.summary()"
   ]
  },
  {
   "cell_type": "code",
   "execution_count": 16,
   "metadata": {},
   "outputs": [
    {
     "name": "stdout",
     "output_type": "stream",
     "text": [
      "                                           Layer Type    Layer Name  \\\n",
      "0   <keras.engine.input_layer.InputLayer object at...       input_2   \n",
      "1   <keras.layers.convolutional.Conv2D object at 0...  block1_conv1   \n",
      "2   <keras.layers.convolutional.Conv2D object at 0...  block1_conv2   \n",
      "3   <keras.layers.pooling.MaxPooling2D object at 0...   block1_pool   \n",
      "4   <keras.layers.convolutional.Conv2D object at 0...  block2_conv1   \n",
      "5   <keras.layers.convolutional.Conv2D object at 0...  block2_conv2   \n",
      "6   <keras.layers.pooling.MaxPooling2D object at 0...   block2_pool   \n",
      "7   <keras.layers.convolutional.Conv2D object at 0...  block3_conv1   \n",
      "8   <keras.layers.convolutional.Conv2D object at 0...  block3_conv2   \n",
      "9   <keras.layers.convolutional.Conv2D object at 0...  block3_conv3   \n",
      "10  <keras.layers.pooling.MaxPooling2D object at 0...   block3_pool   \n",
      "11  <keras.layers.convolutional.Conv2D object at 0...  block4_conv1   \n",
      "12  <keras.layers.convolutional.Conv2D object at 0...  block4_conv2   \n",
      "13  <keras.layers.convolutional.Conv2D object at 0...  block4_conv3   \n",
      "14  <keras.layers.pooling.MaxPooling2D object at 0...   block4_pool   \n",
      "15  <keras.layers.convolutional.Conv2D object at 0...  block5_conv1   \n",
      "16  <keras.layers.convolutional.Conv2D object at 0...  block5_conv2   \n",
      "17  <keras.layers.convolutional.Conv2D object at 0...  block5_conv3   \n",
      "18  <keras.layers.pooling.MaxPooling2D object at 0...   block5_pool   \n",
      "\n",
      "    Layer Trainable  \n",
      "0             False  \n",
      "1             False  \n",
      "2             False  \n",
      "3             False  \n",
      "4             False  \n",
      "5             False  \n",
      "6             False  \n",
      "7             False  \n",
      "8             False  \n",
      "9             False  \n",
      "10            False  \n",
      "11            False  \n",
      "12            False  \n",
      "13            False  \n",
      "14            False  \n",
      "15            False  \n",
      "16             True  \n",
      "17             True  \n",
      "18             True  \n"
     ]
    }
   ],
   "source": [
    "layers = []\n",
    "for layer in vgg_model.layers:\n",
    "    layers.append((layer, layer.name, layer.trainable))\n",
    "print(pd.DataFrame(layers, columns=['Layer Type', 'Layer Name', 'Layer Trainable']))\n",
    "   "
   ]
  },
  {
   "cell_type": "code",
   "execution_count": 17,
   "metadata": {},
   "outputs": [],
   "source": [
    "model = Sequential()\n",
    "model.add(vgg_model)\n",
    "model.add(Flatten())\n",
    "model.add(Dense(512, activation='relu'))\n",
    "model.add(Dropout(0.3))\n",
    "model.add(Dense(512, activation='relu'))\n",
    "model.add(Dropout(0.3))\n",
    "model.add(Dense(17, activation='softmax'))\n"
   ]
  },
  {
   "cell_type": "code",
   "execution_count": 18,
   "metadata": {},
   "outputs": [],
   "source": [
    "epochs = 50\n",
    "model.compile(loss='sparse_categorical_crossentropy',\n",
    "              optimizer=SGD(lr=0.001),\n",
    "              metrics=['accuracy'])"
   ]
  },
  {
   "cell_type": "code",
   "execution_count": 19,
   "metadata": {},
   "outputs": [],
   "source": [
    "#trainX, trainY, valX, valY = loadDataH5()"
   ]
  },
  {
   "cell_type": "markdown",
   "metadata": {},
   "source": [
    "## Step 5: Train the network again using a very small training rate. "
   ]
  },
  {
   "cell_type": "code",
   "execution_count": 20,
   "metadata": {},
   "outputs": [
    {
     "name": "stdout",
     "output_type": "stream",
     "text": [
      "Train on 1020 samples, validate on 340 samples\n",
      "Epoch 1/50\n",
      "1020/1020 [==============================] - 69s 67ms/step - loss: 2.9672 - accuracy: 0.0686 - val_loss: 2.7256 - val_accuracy: 0.1382\n",
      "\n",
      "Epoch 00001: val_loss improved from inf to 2.72555, saving model to postFineTunebestVGG.h5\n",
      "Epoch 2/50\n",
      "1020/1020 [==============================] - 68s 67ms/step - loss: 2.7698 - accuracy: 0.1216 - val_loss: 2.5786 - val_accuracy: 0.2765\n",
      "\n",
      "Epoch 00002: val_loss improved from 2.72555 to 2.57865, saving model to postFineTunebestVGG.h5\n",
      "Epoch 3/50\n",
      "1020/1020 [==============================] - 70s 68ms/step - loss: 2.6143 - accuracy: 0.1735 - val_loss: 2.4303 - val_accuracy: 0.3765\n",
      "\n",
      "Epoch 00003: val_loss improved from 2.57865 to 2.43031, saving model to postFineTunebestVGG.h5\n",
      "Epoch 4/50\n",
      "1020/1020 [==============================] - 68s 66ms/step - loss: 2.4777 - accuracy: 0.2049 - val_loss: 2.2781 - val_accuracy: 0.4765\n",
      "\n",
      "Epoch 00004: val_loss improved from 2.43031 to 2.27811, saving model to postFineTunebestVGG.h5\n",
      "Epoch 5/50\n",
      "1020/1020 [==============================] - 67s 65ms/step - loss: 2.3405 - accuracy: 0.2882 - val_loss: 2.1213 - val_accuracy: 0.5265\n",
      "\n",
      "Epoch 00005: val_loss improved from 2.27811 to 2.12131, saving model to postFineTunebestVGG.h5\n",
      "Epoch 6/50\n",
      "1020/1020 [==============================] - 66s 65ms/step - loss: 2.1976 - accuracy: 0.3186 - val_loss: 1.9786 - val_accuracy: 0.5618\n",
      "\n",
      "Epoch 00006: val_loss improved from 2.12131 to 1.97863, saving model to postFineTunebestVGG.h5\n",
      "Epoch 7/50\n",
      "1020/1020 [==============================] - 66s 65ms/step - loss: 2.0645 - accuracy: 0.3794 - val_loss: 1.8250 - val_accuracy: 0.6176\n",
      "\n",
      "Epoch 00007: val_loss improved from 1.97863 to 1.82504, saving model to postFineTunebestVGG.h5\n",
      "Epoch 8/50\n",
      "1020/1020 [==============================] - 67s 66ms/step - loss: 1.9536 - accuracy: 0.4059 - val_loss: 1.7021 - val_accuracy: 0.6500\n",
      "\n",
      "Epoch 00008: val_loss improved from 1.82504 to 1.70214, saving model to postFineTunebestVGG.h5\n",
      "Epoch 9/50\n",
      "1020/1020 [==============================] - 67s 65ms/step - loss: 1.8219 - accuracy: 0.4461 - val_loss: 1.5680 - val_accuracy: 0.6882\n",
      "\n",
      "Epoch 00009: val_loss improved from 1.70214 to 1.56799, saving model to postFineTunebestVGG.h5\n",
      "Epoch 10/50\n",
      "1020/1020 [==============================] - 67s 65ms/step - loss: 1.7380 - accuracy: 0.4765 - val_loss: 1.4653 - val_accuracy: 0.6941\n",
      "\n",
      "Epoch 00010: val_loss improved from 1.56799 to 1.46534, saving model to postFineTunebestVGG.h5\n",
      "Epoch 11/50\n",
      "1020/1020 [==============================] - 66s 65ms/step - loss: 1.6115 - accuracy: 0.5225 - val_loss: 1.3531 - val_accuracy: 0.7294\n",
      "\n",
      "Epoch 00011: val_loss improved from 1.46534 to 1.35314, saving model to postFineTunebestVGG.h5\n",
      "Epoch 12/50\n",
      "1020/1020 [==============================] - 68s 66ms/step - loss: 1.5539 - accuracy: 0.5441 - val_loss: 1.2631 - val_accuracy: 0.7559\n",
      "\n",
      "Epoch 00012: val_loss improved from 1.35314 to 1.26310, saving model to postFineTunebestVGG.h5\n",
      "Epoch 13/50\n",
      "1020/1020 [==============================] - 68s 66ms/step - loss: 1.4608 - accuracy: 0.5676 - val_loss: 1.1777 - val_accuracy: 0.7500\n",
      "\n",
      "Epoch 00013: val_loss improved from 1.26310 to 1.17770, saving model to postFineTunebestVGG.h5\n",
      "Epoch 14/50\n",
      "1020/1020 [==============================] - 67s 66ms/step - loss: 1.3446 - accuracy: 0.6069 - val_loss: 1.0904 - val_accuracy: 0.7735\n",
      "\n",
      "Epoch 00014: val_loss improved from 1.17770 to 1.09039, saving model to postFineTunebestVGG.h5\n",
      "Epoch 15/50\n",
      "1020/1020 [==============================] - 67s 66ms/step - loss: 1.2799 - accuracy: 0.6314 - val_loss: 1.0180 - val_accuracy: 0.7882\n",
      "\n",
      "Epoch 00015: val_loss improved from 1.09039 to 1.01803, saving model to postFineTunebestVGG.h5\n",
      "Epoch 16/50\n",
      "1020/1020 [==============================] - 68s 66ms/step - loss: 1.1696 - accuracy: 0.6608 - val_loss: 0.9626 - val_accuracy: 0.7794\n",
      "\n",
      "Epoch 00016: val_loss improved from 1.01803 to 0.96262, saving model to postFineTunebestVGG.h5\n",
      "Epoch 17/50\n",
      "1020/1020 [==============================] - 67s 66ms/step - loss: 1.1288 - accuracy: 0.6657 - val_loss: 0.9099 - val_accuracy: 0.7853\n",
      "\n",
      "Epoch 00017: val_loss improved from 0.96262 to 0.90993, saving model to postFineTunebestVGG.h5\n",
      "Epoch 18/50\n",
      "1020/1020 [==============================] - 66s 65ms/step - loss: 1.0591 - accuracy: 0.6892 - val_loss: 0.8474 - val_accuracy: 0.8147\n",
      "\n",
      "Epoch 00018: val_loss improved from 0.90993 to 0.84737, saving model to postFineTunebestVGG.h5\n",
      "Epoch 19/50\n",
      "1020/1020 [==============================] - 69s 68ms/step - loss: 0.9987 - accuracy: 0.7186 - val_loss: 0.7994 - val_accuracy: 0.8147\n",
      "\n",
      "Epoch 00019: val_loss improved from 0.84737 to 0.79943, saving model to postFineTunebestVGG.h5\n",
      "Epoch 20/50\n",
      "1020/1020 [==============================] - 72s 70ms/step - loss: 0.9639 - accuracy: 0.7402 - val_loss: 0.7647 - val_accuracy: 0.8353\n",
      "\n",
      "Epoch 00020: val_loss improved from 0.79943 to 0.76469, saving model to postFineTunebestVGG.h5\n",
      "Epoch 21/50\n",
      "1020/1020 [==============================] - 66s 65ms/step - loss: 0.8855 - accuracy: 0.7373 - val_loss: 0.7440 - val_accuracy: 0.8118\n",
      "\n",
      "Epoch 00021: val_loss improved from 0.76469 to 0.74404, saving model to postFineTunebestVGG.h5\n",
      "Epoch 22/50\n",
      "1020/1020 [==============================] - 67s 66ms/step - loss: 0.8703 - accuracy: 0.7471 - val_loss: 0.7081 - val_accuracy: 0.8265\n",
      "\n",
      "Epoch 00022: val_loss improved from 0.74404 to 0.70810, saving model to postFineTunebestVGG.h5\n",
      "Epoch 23/50\n",
      "1020/1020 [==============================] - 66s 65ms/step - loss: 0.8082 - accuracy: 0.7745 - val_loss: 0.6793 - val_accuracy: 0.8412\n",
      "\n",
      "Epoch 00023: val_loss improved from 0.70810 to 0.67931, saving model to postFineTunebestVGG.h5\n",
      "Epoch 24/50\n",
      "1020/1020 [==============================] - 66s 65ms/step - loss: 0.7617 - accuracy: 0.7775 - val_loss: 0.6444 - val_accuracy: 0.8353\n",
      "\n",
      "Epoch 00024: val_loss improved from 0.67931 to 0.64439, saving model to postFineTunebestVGG.h5\n",
      "Epoch 25/50\n",
      "1020/1020 [==============================] - 67s 65ms/step - loss: 0.7221 - accuracy: 0.8000 - val_loss: 0.6059 - val_accuracy: 0.8471\n",
      "\n",
      "Epoch 00025: val_loss improved from 0.64439 to 0.60590, saving model to postFineTunebestVGG.h5\n",
      "Epoch 26/50\n",
      "1020/1020 [==============================] - 67s 65ms/step - loss: 0.6639 - accuracy: 0.8275 - val_loss: 0.5922 - val_accuracy: 0.8471\n",
      "\n",
      "Epoch 00026: val_loss improved from 0.60590 to 0.59220, saving model to postFineTunebestVGG.h5\n",
      "Epoch 27/50\n",
      "1020/1020 [==============================] - 67s 66ms/step - loss: 0.6494 - accuracy: 0.8167 - val_loss: 0.5802 - val_accuracy: 0.8471\n",
      "\n",
      "Epoch 00027: val_loss improved from 0.59220 to 0.58024, saving model to postFineTunebestVGG.h5\n",
      "Epoch 28/50\n",
      "1020/1020 [==============================] - 69s 67ms/step - loss: 0.6240 - accuracy: 0.8225 - val_loss: 0.5478 - val_accuracy: 0.8765\n",
      "\n",
      "Epoch 00028: val_loss improved from 0.58024 to 0.54783, saving model to postFineTunebestVGG.h5\n",
      "Epoch 29/50\n",
      "1020/1020 [==============================] - 75s 73ms/step - loss: 0.5595 - accuracy: 0.8500 - val_loss: 0.5449 - val_accuracy: 0.8588\n",
      "\n",
      "Epoch 00029: val_loss improved from 0.54783 to 0.54486, saving model to postFineTunebestVGG.h5\n",
      "Epoch 30/50\n",
      "1020/1020 [==============================] - 72s 71ms/step - loss: 0.5719 - accuracy: 0.8431 - val_loss: 0.5142 - val_accuracy: 0.8735\n",
      "\n",
      "Epoch 00030: val_loss improved from 0.54486 to 0.51419, saving model to postFineTunebestVGG.h5\n",
      "Epoch 31/50\n",
      "1020/1020 [==============================] - 71s 69ms/step - loss: 0.5415 - accuracy: 0.8461 - val_loss: 0.5044 - val_accuracy: 0.8706\n",
      "\n",
      "Epoch 00031: val_loss improved from 0.51419 to 0.50436, saving model to postFineTunebestVGG.h5\n",
      "Epoch 32/50\n",
      "1020/1020 [==============================] - 70s 68ms/step - loss: 0.5157 - accuracy: 0.8559 - val_loss: 0.4925 - val_accuracy: 0.8765\n",
      "\n",
      "Epoch 00032: val_loss improved from 0.50436 to 0.49252, saving model to postFineTunebestVGG.h5\n",
      "Epoch 33/50\n",
      "1020/1020 [==============================] - 69s 68ms/step - loss: 0.4881 - accuracy: 0.8814 - val_loss: 0.4821 - val_accuracy: 0.8794\n",
      "\n",
      "Epoch 00033: val_loss improved from 0.49252 to 0.48210, saving model to postFineTunebestVGG.h5\n",
      "Epoch 34/50\n",
      "1020/1020 [==============================] - 72s 71ms/step - loss: 0.4542 - accuracy: 0.8765 - val_loss: 0.4724 - val_accuracy: 0.8706\n",
      "\n",
      "Epoch 00034: val_loss improved from 0.48210 to 0.47241, saving model to postFineTunebestVGG.h5\n",
      "Epoch 35/50\n",
      "1020/1020 [==============================] - 77s 76ms/step - loss: 0.4313 - accuracy: 0.8873 - val_loss: 0.4604 - val_accuracy: 0.8794\n",
      "\n",
      "Epoch 00035: val_loss improved from 0.47241 to 0.46045, saving model to postFineTunebestVGG.h5\n",
      "Epoch 36/50\n",
      "1020/1020 [==============================] - 72s 70ms/step - loss: 0.4311 - accuracy: 0.8902 - val_loss: 0.4503 - val_accuracy: 0.8765\n",
      "\n",
      "Epoch 00036: val_loss improved from 0.46045 to 0.45026, saving model to postFineTunebestVGG.h5\n",
      "Epoch 37/50\n",
      "1020/1020 [==============================] - 72s 70ms/step - loss: 0.3957 - accuracy: 0.8912 - val_loss: 0.4442 - val_accuracy: 0.8824\n",
      "\n",
      "Epoch 00037: val_loss improved from 0.45026 to 0.44418, saving model to postFineTunebestVGG.h5\n",
      "Epoch 38/50\n",
      "1020/1020 [==============================] - 71s 70ms/step - loss: 0.3646 - accuracy: 0.9196 - val_loss: 0.4201 - val_accuracy: 0.8824\n",
      "\n",
      "Epoch 00038: val_loss improved from 0.44418 to 0.42009, saving model to postFineTunebestVGG.h5\n",
      "Epoch 39/50\n",
      "1020/1020 [==============================] - 71s 69ms/step - loss: 0.3713 - accuracy: 0.8990 - val_loss: 0.4120 - val_accuracy: 0.8853\n",
      "\n",
      "Epoch 00039: val_loss improved from 0.42009 to 0.41199, saving model to postFineTunebestVGG.h5\n",
      "Epoch 40/50\n",
      "1020/1020 [==============================] - 70s 69ms/step - loss: 0.3746 - accuracy: 0.8902 - val_loss: 0.4044 - val_accuracy: 0.8912\n",
      "\n",
      "Epoch 00040: val_loss improved from 0.41199 to 0.40436, saving model to postFineTunebestVGG.h5\n",
      "Epoch 41/50\n",
      "1020/1020 [==============================] - 72s 71ms/step - loss: 0.3570 - accuracy: 0.8951 - val_loss: 0.4007 - val_accuracy: 0.8853\n",
      "\n",
      "Epoch 00041: val_loss improved from 0.40436 to 0.40068, saving model to postFineTunebestVGG.h5\n",
      "Epoch 42/50\n",
      "1020/1020 [==============================] - 76s 75ms/step - loss: 0.3203 - accuracy: 0.9167 - val_loss: 0.4057 - val_accuracy: 0.8912\n",
      "\n",
      "Epoch 00042: val_loss did not improve from 0.40068\n",
      "Epoch 43/50\n",
      "1020/1020 [==============================] - 72s 71ms/step - loss: 0.3162 - accuracy: 0.9176 - val_loss: 0.4001 - val_accuracy: 0.8882\n",
      "\n",
      "Epoch 00043: val_loss improved from 0.40068 to 0.40006, saving model to postFineTunebestVGG.h5\n",
      "Epoch 44/50\n",
      "1020/1020 [==============================] - 71s 70ms/step - loss: 0.2808 - accuracy: 0.9255 - val_loss: 0.3910 - val_accuracy: 0.8912\n",
      "\n",
      "Epoch 00044: val_loss improved from 0.40006 to 0.39102, saving model to postFineTunebestVGG.h5\n",
      "Epoch 45/50\n",
      "1020/1020 [==============================] - 66s 65ms/step - loss: 0.2981 - accuracy: 0.9284 - val_loss: 0.3799 - val_accuracy: 0.8912\n",
      "\n",
      "Epoch 00045: val_loss improved from 0.39102 to 0.37995, saving model to postFineTunebestVGG.h5\n",
      "Epoch 46/50\n",
      "1020/1020 [==============================] - 67s 66ms/step - loss: 0.2613 - accuracy: 0.9431 - val_loss: 0.3779 - val_accuracy: 0.8941\n",
      "\n",
      "Epoch 00046: val_loss improved from 0.37995 to 0.37795, saving model to postFineTunebestVGG.h5\n",
      "Epoch 47/50\n",
      "1020/1020 [==============================] - 66s 65ms/step - loss: 0.2721 - accuracy: 0.9294 - val_loss: 0.3654 - val_accuracy: 0.9000\n",
      "\n",
      "Epoch 00047: val_loss improved from 0.37795 to 0.36539, saving model to postFineTunebestVGG.h5\n",
      "Epoch 48/50\n",
      "1020/1020 [==============================] - 67s 66ms/step - loss: 0.2799 - accuracy: 0.9216 - val_loss: 0.3775 - val_accuracy: 0.8853\n",
      "\n",
      "Epoch 00048: val_loss did not improve from 0.36539\n",
      "Epoch 49/50\n",
      "1020/1020 [==============================] - 67s 65ms/step - loss: 0.2470 - accuracy: 0.9451 - val_loss: 0.3703 - val_accuracy: 0.8912\n",
      "\n",
      "Epoch 00049: val_loss did not improve from 0.36539\n",
      "Epoch 50/50\n",
      "1020/1020 [==============================] - 67s 65ms/step - loss: 0.2461 - accuracy: 0.9333 - val_loss: 0.3596 - val_accuracy: 0.9000\n",
      "\n",
      "Epoch 00050: val_loss improved from 0.36539 to 0.35957, saving model to postFineTunebestVGG.h5\n"
     ]
    },
    {
     "data": {
      "image/png": "[encoded data removed]",
      "text/plain": [
       "<Figure size 432x288 with 1 Axes>"
      ]
     },
     "metadata": {},
     "output_type": "display_data"
    }
   ],
   "source": [
    "checkpoint = tf.keras.callbacks.ModelCheckpoint(\"postFineTunebestVGG.h5\", monitor=\"val_loss\", mode=\"min\", save_best_only=True, verbose=1)\n",
    "history = model.fit(x=trainX, y=trainY,\n",
    "                            batch_size=32,\n",
    "                            epochs=epochs,\n",
    "                            callbacks=[checkpoint],\n",
    "                            validation_data=(valX, valY))\n",
    "showGraph(history, epochs)"
   ]
  },
  {
   "cell_type": "code",
   "execution_count": 21,
   "metadata": {},
   "outputs": [
    {
     "data": {
      "image/png": "[encoded data removed]",
      "text/plain": [
       "<Figure size 432x288 with 1 Axes>"
      ]
     },
     "metadata": {},
     "output_type": "display_data"
    }
   ],
   "source": [
    "showGraph(history, epochs)"
   ]
  },
  {
   "cell_type": "code",
   "execution_count": null,
   "metadata": {},
   "outputs": [],
   "source": []
  },
  {
   "cell_type": "code",
   "execution_count": null,
   "metadata": {},
   "outputs": [],
   "source": []
  },
  {
   "cell_type": "code",
   "execution_count": null,
   "metadata": {},
   "outputs": [],
   "source": []
  },
  {
   "cell_type": "code",
   "execution_count": null,
   "metadata": {},
   "outputs": [],
   "source": []
  },
  {
   "cell_type": "code",
   "execution_count": null,
   "metadata": {},
   "outputs": [],
   "source": []
  }
 ],
 "metadata": {
  "kernelspec": {
   "display_name": "Python 3",
   "language": "python",
   "name": "python3"
  },
  "language_info": {
   "codemirror_mode": {
    "name": "ipython",
    "version": 3
   },
   "file_extension": ".py",
   "mimetype": "text/x-python",
   "name": "python",
   "nbconvert_exporter": "python",
   "pygments_lexer": "ipython3",
   "version": "3.7.6"
  }
 },
 "nbformat": 4,
 "nbformat_minor": 4
}
